{
 "cells": [
  {
   "cell_type": "code",
   "execution_count": null,
   "metadata": {},
   "outputs": [],
   "source": [
    "import os \n",
    "\n",
    "path = \"kbtu\"\n",
    "\n",
    "emptyfile = \"kbtu/aaa.txt\"\n",
    "txtFile = \"kbtu/2.txt\"\n",
    "listFile = \"kbtu/list.txt\"\n",
    "files_task_6 = \"kbtu/6-task/\""
   ]
  },
  {
   "cell_type": "code",
   "execution_count": 41,
   "metadata": {},
   "outputs": [
    {
     "name": "stdout",
     "output_type": "stream",
     "text": [
      "([], ['1.txt', '2.txt', 'list.txt'], ['1.txt', '2.txt', 'list.txt'])\n"
     ]
    }
   ],
   "source": [
    "def list_dirs_files(path):\n",
    "    dirs = [d for d in os.listdir(path) if os.path.isdir(os.path.join(path, d))]\n",
    "    files = [f for f in os.listdir(path) if os.path.isfile(os.path.join(path, f))]\n",
    "    all_items = os.listdir(path)\n",
    "    return dirs, files, all_items\n",
    "\n",
    "\n",
    "print(list_dirs_files(path))"
   ]
  },
  {
   "cell_type": "code",
   "execution_count": 42,
   "metadata": {},
   "outputs": [
    {
     "name": "stdout",
     "output_type": "stream",
     "text": [
      "(True,)\n"
     ]
    }
   ],
   "source": [
    "def check_access(path):\n",
    "    return os.access(path, os.F_OK), \n",
    "os.access(path, os.R_OK), \n",
    "os.access(path, os.W_OK), \n",
    "os.access(path, os.X_OK)\n",
    "\n",
    "\n",
    "print(check_access(path))"
   ]
  },
  {
   "cell_type": "code",
   "execution_count": 43,
   "metadata": {},
   "outputs": [
    {
     "name": "stdout",
     "output_type": "stream",
     "text": [
      "('kbtu', '')\n"
     ]
    }
   ],
   "source": [
    "def path_exists(path):\n",
    "    if os.path.exists(path):\n",
    "        return os.path.basename(path), os.path.dirname(path)\n",
    "    return None\n",
    "\n",
    "print(path_exists(path))"
   ]
  },
  {
   "cell_type": "code",
   "execution_count": 44,
   "metadata": {},
   "outputs": [
    {
     "name": "stdout",
     "output_type": "stream",
     "text": [
      "11\n"
     ]
    }
   ],
   "source": [
    "def count_lines(file):\n",
    "    with open(file, 'r') as f:\n",
    "        return sum(1 for line in f)\n",
    "    \n",
    "print(count_lines(txtFile))"
   ]
  },
  {
   "cell_type": "code",
   "execution_count": 45,
   "metadata": {},
   "outputs": [],
   "source": [
    "def write_list(file, list):\n",
    "    with open(file, 'w') as f:\n",
    "        f.writelines([str(item) + '\\n' for item in list])\n",
    "\n",
    "write_list(listFile, [\"apple\", \"banana\", \"cherry\"])"
   ]
  },
  {
   "cell_type": "code",
   "execution_count": 46,
   "metadata": {},
   "outputs": [],
   "source": [
    "_ascii_start = 65\n",
    "\n",
    "os.makedirs(files_task_6, exist_ok=True)\n",
    "\n",
    "def generate_files():\n",
    "    for i in range(26):\n",
    "        with open(f\"{files_task_6}{chr(_ascii_start + i)}.txt\", 'w') as f:\n",
    "            pass\n",
    "\n",
    "generate_files()"
   ]
  },
  {
   "cell_type": "code",
   "execution_count": null,
   "metadata": {},
   "outputs": [],
   "source": [
    "def copy_file(a, b):\n",
    "    with open(a, 'r') as A:\n",
    "        with open(b, 'w') as B:\n",
    "            B.write(A.read())\n",
    "\n",
    "copy_file(txtFile, emptyfile)"
   ]
  },
  {
   "cell_type": "code",
   "execution_count": null,
   "metadata": {},
   "outputs": [],
   "source": [
    "def delete_file(path):\n",
    "    if os.path.exists(path) and os.access(path, os.W_OK):\n",
    "        os.remove(path)\n",
    "\n",
    "delete_file(txtFile)"
   ]
  }
 ],
 "metadata": {
  "kernelspec": {
   "display_name": "Python 3",
   "language": "python",
   "name": "python3"
  },
  "language_info": {
   "codemirror_mode": {
    "name": "ipython",
    "version": 3
   },
   "file_extension": ".py",
   "mimetype": "text/x-python",
   "name": "python",
   "nbconvert_exporter": "python",
   "pygments_lexer": "ipython3",
   "version": "3.13.0"
  }
 },
 "nbformat": 4,
 "nbformat_minor": 2
}
