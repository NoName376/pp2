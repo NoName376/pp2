{
 "cells": [
  {
   "cell_type": "code",
   "execution_count": 2,
   "metadata": {},
   "outputs": [
    {
     "name": "stdout",
     "output_type": "stream",
     "text": [
      "Output radian:  1.5707963267948966\n"
     ]
    }
   ],
   "source": [
    "import math\n",
    "\n",
    "inp = float(input(\"Input degree: \"))\n",
    "print(\"Output radian: \", math.radians(inp))"
   ]
  },
  {
   "cell_type": "code",
   "execution_count": null,
   "metadata": {},
   "outputs": [
    {
     "name": "stdout",
     "output_type": "stream",
     "text": [
      "The area is: 5.0\n"
     ]
    }
   ],
   "source": [
    "import math\n",
    "\n",
    "h = float(input(\"Enter the height: \"))\n",
    "a = float(input(\"Enter the first base: \"))\n",
    "b = float(input(\"Enter the second base: \"))\n",
    "\n",
    "area = (a + b) * 0.5 * h\n",
    "\n",
    "print(f\"The area is: {area}\")\n"
   ]
  },
  {
   "cell_type": "code",
   "execution_count": 4,
   "metadata": {},
   "outputs": [
    {
     "name": "stdout",
     "output_type": "stream",
     "text": [
      "Area:  1.7320508075688779\n"
     ]
    }
   ],
   "source": [
    "import math\n",
    "\n",
    "n = float(input(\"Number of sides: \"))\n",
    "a = float(input(\"Side length: \"))\n",
    "\n",
    "area = (n * a**2) / (4 * math.tan(math.pi / n))\n",
    "\n",
    "print(\"Area: \", area)\n"
   ]
  },
  {
   "cell_type": "code",
   "execution_count": 5,
   "metadata": {},
   "outputs": [
    {
     "name": "stdout",
     "output_type": "stream",
     "text": [
      "15.0\n"
     ]
    }
   ],
   "source": [
    "import math\n",
    "\n",
    "a = float(input(\"a: \"))\n",
    "b = float(input(\"b: \"))\n",
    "\n",
    "print(float(a * b))\n"
   ]
  }
 ],
 "metadata": {
  "kernelspec": {
   "display_name": "Python 3",
   "language": "python",
   "name": "python3"
  },
  "language_info": {
   "codemirror_mode": {
    "name": "ipython",
    "version": 3
   },
   "file_extension": ".py",
   "mimetype": "text/x-python",
   "name": "python",
   "nbconvert_exporter": "python",
   "pygments_lexer": "ipython3",
   "version": "3.13.0"
  }
 },
 "nbformat": 4,
 "nbformat_minor": 2
}
