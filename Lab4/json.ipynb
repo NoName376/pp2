{
 "cells": [
  {
   "cell_type": "code",
   "execution_count": 2,
   "metadata": {},
   "outputs": [
    {
     "name": "stdout",
     "output_type": "stream",
     "text": [
      "Interface status\n",
      "================================================================================\n",
      "DN                                                 Description           Speed    MTU  \n",
      "-------------------------------------------------- --------------------  ------  ------\n",
      "topology/pod-1/node-201/sys/phys-[eth1/33]                              inherit   9150\n",
      "topology/pod-1/node-201/sys/phys-[eth1/33]                              inherit   9150\n",
      "topology/pod-1/node-201/sys/phys-[eth1/33]                              inherit   9150\n"
     ]
    }
   ],
   "source": [
    "import json \n",
    "\n",
    "\n",
    "path = \"jsonData.json\"\n",
    "\n",
    "print(\"Interface status\")\n",
    "print(\"================================================================================\")\n",
    "print(\"DN                                                 Description           Speed    MTU  \")\n",
    "print(\"-------------------------------------------------- --------------------  ------  ------\")\n",
    "\n",
    "with open(path) as f:\n",
    "    data = json.load(f)\n",
    "\n",
    "request_from_server = data[\"imdata\"][0][\"l1PhysIf\"][\"attributes\"][\"dn\"]\n",
    "speed = data[\"imdata\"][0][\"l1PhysIf\"][\"attributes\"][\"fecMode\"]\n",
    "mtu = data[\"imdata\"][0][\"l1PhysIf\"][\"attributes\"][\"mtu\"]\n",
    "\n",
    "print(request_from_server, \"                            \", speed,\" \", mtu )\n",
    "print(request_from_server, \"                            \", speed,\" \", mtu )\n",
    "print(request_from_server, \"                            \", speed,\" \", mtu )"
   ]
  }
 ],
 "metadata": {
  "kernelspec": {
   "display_name": "Python 3",
   "language": "python",
   "name": "python3"
  },
  "language_info": {
   "codemirror_mode": {
    "name": "ipython",
    "version": 3
   },
   "file_extension": ".py",
   "mimetype": "text/x-python",
   "name": "python",
   "nbconvert_exporter": "python",
   "pygments_lexer": "ipython3",
   "version": "3.13.0"
  }
 },
 "nbformat": 4,
 "nbformat_minor": 2
}
