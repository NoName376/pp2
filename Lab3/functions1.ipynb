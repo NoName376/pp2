{
 "cells": [
  {
   "cell_type": "code",
   "execution_count": 47,
   "metadata": {},
   "outputs": [],
   "source": [
    "def grams_to_ounces(grams: float):\n",
    "    return 28.3495231 * grams"
   ]
  },
  {
   "cell_type": "code",
   "execution_count": 48,
   "metadata": {},
   "outputs": [],
   "source": [
    "def far_to_cent(far: float):\n",
    "    return (5/9) * (far - 32)"
   ]
  },
  {
   "cell_type": "code",
   "execution_count": 49,
   "metadata": {},
   "outputs": [],
   "source": [
    "def solve(numheads: int, numlegs: int) -> tuple[int, int] | str:\n",
    "    for chickens in range(numheads + 1):\n",
    "        rabbits = numheads - chickens\n",
    "        if (chickens * 2 + rabbits * 4) == numlegs:\n",
    "            return chickens, rabbits\n",
    "    return \"No solution\""
   ]
  },
  {
   "cell_type": "code",
   "execution_count": 1,
   "metadata": {},
   "outputs": [],
   "source": [
    "def primes(nums: list[int]) -> list[int]:\n",
    "    result = []\n",
    "    for num in nums:\n",
    "        if num > 1:\n",
    "            isPrime = True\n",
    "            for i in range(2, num):\n",
    "                if num % i == 0:\n",
    "                    isPrime = False\n",
    "                    break\n",
    "            if isPrime:\n",
    "                result.append(num)\n",
    "    return result\n"
   ]
  },
  {
   "cell_type": "code",
   "execution_count": 51,
   "metadata": {},
   "outputs": [],
   "source": [
    "def print_permutations(s: str, chosen = \"\"):\n",
    "    if len(s) == 0:\n",
    "        print(chosen)\n",
    "        return\n",
    "\n",
    "    for i in range(len(s)):\n",
    "        remaining = s[:i] + s[i+1:]\n",
    "        print_permutations(remaining, chosen + s[i])"
   ]
  },
  {
   "cell_type": "code",
   "execution_count": 52,
   "metadata": {},
   "outputs": [],
   "source": [
    "def reversed_sentence(s: str) -> str:\n",
    "    res = []\n",
    "    for word in s[::-1].split():\n",
    "        res.append(word[::-1])\n",
    "\n",
    "    return \" \".join(res)"
   ]
  },
  {
   "cell_type": "code",
   "execution_count": 53,
   "metadata": {},
   "outputs": [
    {
     "name": "stdout",
     "output_type": "stream",
     "text": [
      "True\n",
      "False\n",
      "False\n"
     ]
    }
   ],
   "source": [
    "def has_33(nums: list[int]) -> bool:\n",
    "    for i in range(len(nums)-1):\n",
    "        if nums[i] == 3 and nums[i+1] == 3:\n",
    "            return True\n",
    "    return False\n",
    "\n",
    "#has 33\n",
    "print(has_33([1, 3, 3])) # True\n",
    "print(has_33([1, 3, 1, 3])) # FALSE\n",
    "print(has_33([3, 1, 3])) # False"
   ]
  },
  {
   "cell_type": "code",
   "execution_count": 54,
   "metadata": {},
   "outputs": [
    {
     "name": "stdout",
     "output_type": "stream",
     "text": [
      "True\n",
      "True\n",
      "False\n"
     ]
    }
   ],
   "source": [
    "def spy_game(nums: list[int]) -> bool:\n",
    "    target = [0, 0, 7]\n",
    "    for num in nums:\n",
    "        if num == target[0]:\n",
    "            target.pop(0)\n",
    "        if len(target) == 0:\n",
    "            return True\n",
    "    return False\n",
    "\n",
    "print(spy_game([1, 2, 4, 0, 0, 7, 5]))  # True\n",
    "print(spy_game([1, 0, 2, 4, 0, 5, 7]))  # True\n",
    "print(spy_game([1, 7, 2, 0, 4, 5, 0]))  # False"
   ]
  },
  {
   "cell_type": "code",
   "execution_count": 55,
   "metadata": {},
   "outputs": [],
   "source": [
    "def sphere_volume(radius: float) -> float:\n",
    "    return (4/3) * 3.14 * (radius ** 3)"
   ]
  },
  {
   "cell_type": "code",
   "execution_count": 56,
   "metadata": {},
   "outputs": [],
   "source": [
    "def unique_list(lst: list) -> list:\n",
    "    res = []\n",
    "    for elem in lst:\n",
    "        if elem not in res:\n",
    "            res.append(elem)\n",
    "    return res"
   ]
  },
  {
   "cell_type": "code",
   "execution_count": 57,
   "metadata": {},
   "outputs": [],
   "source": [
    "def is_palindrome(s: str) -> bool:\n",
    "    return s == s[::-1]\n"
   ]
  },
  {
   "cell_type": "code",
   "execution_count": 58,
   "metadata": {},
   "outputs": [],
   "source": [
    "def histogram(nums: list[int]) -> None:\n",
    "    for num in nums:\n",
    "        print(num * \"*\")"
   ]
  },
  {
   "cell_type": "code",
   "execution_count": 59,
   "metadata": {},
   "outputs": [],
   "source": [
    "import random\n",
    "\n",
    "def guess_the_number():\n",
    "    random_number = random.randint(1, 20)\n",
    "    name = input(\"Hello! What is your name?\\n\")\n",
    "    print(f\"\\nWell, {name}, I am thinking of a number between 1 and 20.\")\n",
    "    attempts = 0\n",
    "\n",
    "    while True:\n",
    "        num = int(input(\"Take a guess.\\n\"))\n",
    "        attempts += 1\n",
    "        if num < random_number:\n",
    "            print(f\"Your guess is too low.\")\n",
    "        elif num > random_number:\n",
    "            print(f\"Your guess is too high.\")\n",
    "        else:\n",
    "            print(f\"Good job, {name}! You guessed my number in {attempts} guesses!\")\n",
    "            return num"
   ]
  }
 ],
 "metadata": {
  "kernelspec": {
   "display_name": "Python 3",
   "language": "python",
   "name": "python3"
  },
  "language_info": {
   "codemirror_mode": {
    "name": "ipython",
    "version": 3
   },
   "file_extension": ".py",
   "mimetype": "text/x-python",
   "name": "python",
   "nbconvert_exporter": "python",
   "pygments_lexer": "ipython3",
   "version": "3.13.0"
  }
 },
 "nbformat": 4,
 "nbformat_minor": 2
}
